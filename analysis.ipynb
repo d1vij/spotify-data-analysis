{
 "cells": [
  {
   "cell_type": "markdown",
   "id": "0e890702",
   "metadata": {},
   "source": [
    "Sources\n",
    "* https://jhrcook.github.io/spotify-data-analysis/10_005_analyzing-my-streaming-history.html\n",
    "* https://strftime.org/"
   ]
  },
  {
   "cell_type": "code",
   "execution_count": null,
   "id": "db9c430d",
   "metadata": {},
   "outputs": [],
   "source": [
    "# %pip install pandas numpy matplotlib seaborn rapidfuzz statsmodels"
   ]
  },
  {
   "cell_type": "code",
   "execution_count": null,
   "id": "fdd18b7d",
   "metadata": {},
   "outputs": [],
   "source": [
    "import os\n",
    "from typing import cast, Literal\n",
    "from pprint import pp\n",
    "from datetime import datetime\n",
    "\n",
    "import numpy as np\n",
    "import pandas as pd\n",
    "from matplotlib.ticker import MultipleLocator, StrMethodFormatter\n",
    "\n",
    "import seaborn as sns\n",
    "import matplotlib.pyplot as plt\n",
    "\n",
    "pd.set_option(\"display.expand_frame_repr\", False)\n",
    "\n",
    "from preprocessing import read_file, extract_filtered, SongAttributes\n",
    "from utils.fuzzy_searchers import *\n",
    "from utils.plots import Plots\n",
    "from utils.filters import Filters\n",
    "from utils.extract_from_timestamp import * \n",
    "from utils.smoothen import *\n",
    "from utils.series_textwrap import *"
   ]
  },
  {
   "cell_type": "code",
   "execution_count": null,
   "id": "239182d9",
   "metadata": {},
   "outputs": [],
   "source": [
    "# extract the \"Spotify Extended Streaming History.zip\" in a folder named data, sibling to this script\n",
    "\n",
    "# data_folder = os.path.join(os.path.abspath(''), \"niharika\")\n",
    "data_folder = os.path.join(os.path.abspath(''), \"kirtika\")\n",
    "# data_folder = os.path.join(os.path.abspath(''), \"prithika\")\n",
    "print(data_folder)\n",
    "# only reading Audio History files\n",
    "files = [os.path.join(data_folder, file) for file in os.listdir(data_folder) if file.startswith(\"Streaming_History_Audio\")]\n",
    "songs = [song for file in files for song in read_file(file)]"
   ]
  },
  {
   "cell_type": "code",
   "execution_count": null,
   "id": "71daf03e",
   "metadata": {},
   "outputs": [],
   "source": [
    "filters: list[SongAttributes] = [\"ts\", \"ms_played\", \"master_metadata_track_name\", \"master_metadata_album_artist_name\", \"master_metadata_album_album_name\", \"spotify_track_uri\"]\n",
    "filtered = [extract_filtered(song, filters) for song in songs]"
   ]
  },
  {
   "cell_type": "code",
   "execution_count": null,
   "id": "b5a782ac",
   "metadata": {},
   "outputs": [],
   "source": [
    "df = pd.DataFrame(filtered)\n",
    "df[\"ts\"] = pd.to_datetime(df[\"ts\"])\n",
    "df.to_json(\"df.json\", orient=\"records\")"
   ]
  },
  {
   "cell_type": "code",
   "execution_count": null,
   "id": "cda4ec04",
   "metadata": {},
   "outputs": [],
   "source": [
    "fig, ax = plt.subplots(2,1, figsize=(10,5))\n",
    "fig.suptitle(\"KDE Distributions for all tracks\", fontsize=23)\n",
    "Plots.track_playtime_kde_dist(df, ax[0], ax[1])\n",
    "plt.tight_layout()\n",
    "plt.show()"
   ]
  },
  {
   "cell_type": "code",
   "execution_count": null,
   "id": "ba7b80a6",
   "metadata": {},
   "outputs": [],
   "source": [
    "# artists vs songs listend each month\n",
    "# number of artists listend each month\n",
    "copy = df[[\"ts\",\"master_metadata_album_artist_name\", \"master_metadata_track_name\"]].copy(True)\n",
    "# copy[\"month-year\"] = copy[\"ts\"].apply(lambda ts: datetime.strftime(ts, \"%b %Y\"))\n",
    "copy[\"month\"] = copy[\"ts\"].dt.to_period(\"M\")\n",
    "copy.sort_values(\"ts\", inplace=True, ascending=True)\n",
    "\n",
    "monthwise_unique_artists_count = copy.groupby(\"month\")[\"master_metadata_album_artist_name\"].nunique()\n",
    "monthwise_unique_track_count = copy.groupby(\"month\")[\"master_metadata_track_name\"].nunique()\n",
    "aggr = pd.concat([monthwise_unique_artists_count, monthwise_unique_track_count], axis=1)\n",
    "aggr[\"month-year\"] = aggr.index.strftime(\"%b %Y\")\n",
    "aggr.rename({\"master_metadata_album_artist_name\":\"Artist Count\", \"master_metadata_track_name\":\"Track Count\"}, inplace=True, axis=1)\n",
    "\n",
    "\n",
    "\n",
    "y1 = aggr[\"Artist Count\"]\n",
    "y2 = aggr[\"Track Count\"]\n",
    "\n",
    "fig, ax = plt.subplots(1, 1, figsize=(10, 4))\n",
    "ax.axhline(y1.max(), color=\"#5EABD6\", alpha=0.5, linestyle='--')\n",
    "ax.axhline(y2.max(), color=\"#EF5A6F\", alpha=0.5, linestyle='--')\n",
    "\n",
    "sns.lineplot(\n",
    "    x=aggr[\"month-year\"],\n",
    "    y=y1,\n",
    "    label=[\"Artist Count\"],\n",
    "    color=\"#5EABD6\",\n",
    "    marker=\".\",\n",
    "    ax=ax\n",
    ")\n",
    "sns.lineplot(\n",
    "    x=aggr[\"month-year\"],\n",
    "    y=y2,\n",
    "    label=[\"Track Count\"],\n",
    "    color=\"#EF5A6F\",\n",
    "    marker=\".\",\n",
    "    ax=ax\n",
    ")\n",
    "dates  = copy[\"ts\"].apply(lambda ts: datetime.strftime(ts, \"%Y-%m-%d\"))\n",
    "min_date = dates.min()\n",
    "max_date = dates.max()\n",
    "\n",
    "date_ticks = pd.date_range(start=min_date, end=max_date, periods=7, inclusive=\"both\")\n",
    "ax.set_xticks(date_ticks.strftime(\"%b %Y\"), labels=[d.strftime(\"%b %Y\") for d in date_ticks])\n",
    "ax.legend(\n",
    "    loc=\"upper left\",\n",
    ")\n",
    "sns.despine()\n",
    "\n",
    "plt.xlabel(\"\")\n",
    "plt.ylabel(\"\")\n",
    "plt.title(\"Variablilty in artists and tracks\")\n",
    "plt.tight_layout()\n",
    "plt.show()"
   ]
  },
  {
   "cell_type": "code",
   "execution_count": null,
   "id": "3b91561a",
   "metadata": {},
   "outputs": [],
   "source": [
    "copy = df.copy(True)"
   ]
  },
  {
   "cell_type": "code",
   "execution_count": null,
   "id": "8eab13da",
   "metadata": {},
   "outputs": [],
   "source": [
    "copy[\"month\"] = pd.to_datetime(copy[\"ts\"]).apply(lambda ts: datetime.strftime(ts,\"%b\"))\n",
    "may = copy[copy[\"month\"] == \"May\"].copy(True)"
   ]
  },
  {
   "cell_type": "code",
   "execution_count": null,
   "id": "a8211e35",
   "metadata": {},
   "outputs": [],
   "source": [
    "may[\"date\"] = pd.to_datetime(copy[\"ts\"]).apply(lambda ts: datetime.strftime(ts,\"%d\"))"
   ]
  },
  {
   "cell_type": "code",
   "execution_count": null,
   "id": "ae9030f3",
   "metadata": {},
   "outputs": [],
   "source": [
    "grouped = may.groupby(\"date\").count().sort_values('ts', ascending=False)\n",
    "grouped[\"ts\"]"
   ]
  },
  {
   "cell_type": "code",
   "execution_count": null,
   "id": "f6f3270b",
   "metadata": {},
   "outputs": [],
   "source": [
    "len(df[df[\"ms_played\"] > 0])"
   ]
  }
 ],
 "metadata": {
  "kernelspec": {
   "display_name": ".venv",
   "language": "python",
   "name": "python3"
  },
  "language_info": {
   "codemirror_mode": {
    "name": "ipython",
    "version": 3
   },
   "file_extension": ".py",
   "mimetype": "text/x-python",
   "name": "python",
   "nbconvert_exporter": "python",
   "pygments_lexer": "ipython3",
   "version": "3.12.3"
  }
 },
 "nbformat": 4,
 "nbformat_minor": 5
}
