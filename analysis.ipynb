{
 "cells": [
  {
   "cell_type": "markdown",
   "id": "0e890702",
   "metadata": {},
   "source": [
    "Sources\n",
    "* https://jhrcook.github.io/spotify-data-analysis/10_005_analyzing-my-streaming-history.html\n",
    "* https://strftime.org/"
   ]
  },
  {
   "cell_type": "code",
   "execution_count": 1,
   "id": "db9c430d",
   "metadata": {},
   "outputs": [],
   "source": [
    "# %pip install pandas numpy matplotlib seaborn rapidfuzz statsmodels"
   ]
  },
  {
   "cell_type": "code",
   "execution_count": 2,
   "id": "fdd18b7d",
   "metadata": {},
   "outputs": [
    {
     "ename": "ImportError",
     "evalue": "cannot import name 'BarContainer' from 'matplotlib.container' (/home/divij/coding/projects/spotify-data-analysis/.venv/lib/python3.12/site-packages/matplotlib/container.py)",
     "output_type": "error",
     "traceback": [
      "\u001b[31m---------------------------------------------------------------------------\u001b[39m",
      "\u001b[31mImportError\u001b[39m                               Traceback (most recent call last)",
      "\u001b[36mCell\u001b[39m\u001b[36m \u001b[39m\u001b[32mIn[2]\u001b[39m\u001b[32m, line 9\u001b[39m\n\u001b[32m      7\u001b[39m \u001b[38;5;28;01mimport\u001b[39;00m\u001b[38;5;250m \u001b[39m\u001b[34;01mnumpy\u001b[39;00m\u001b[38;5;250m \u001b[39m\u001b[38;5;28;01mas\u001b[39;00m\u001b[38;5;250m \u001b[39m\u001b[34;01mnp\u001b[39;00m\n\u001b[32m      8\u001b[39m \u001b[38;5;28;01mimport\u001b[39;00m\u001b[38;5;250m \u001b[39m\u001b[34;01mpandas\u001b[39;00m\u001b[38;5;250m \u001b[39m\u001b[38;5;28;01mas\u001b[39;00m\u001b[38;5;250m \u001b[39m\u001b[34;01mpd\u001b[39;00m\n\u001b[32m----> \u001b[39m\u001b[32m9\u001b[39m \u001b[38;5;28;01mimport\u001b[39;00m\u001b[38;5;250m \u001b[39m\u001b[34;01mmatplotlib\u001b[39;00m\u001b[34;01m.\u001b[39;00m\u001b[34;01mpyplot\u001b[39;00m\u001b[38;5;250m \u001b[39m\u001b[38;5;28;01mas\u001b[39;00m\u001b[38;5;250m \u001b[39m\u001b[34;01mplt\u001b[39;00m \n\u001b[32m     10\u001b[39m \u001b[38;5;28;01mfrom\u001b[39;00m\u001b[38;5;250m \u001b[39m\u001b[34;01mmatplotlib\u001b[39;00m\u001b[34;01m.\u001b[39;00m\u001b[34;01mticker\u001b[39;00m\u001b[38;5;250m \u001b[39m\u001b[38;5;28;01mimport\u001b[39;00m MultipleLocator, StrMethodFormatter\n\u001b[32m     12\u001b[39m \u001b[38;5;28;01mimport\u001b[39;00m\u001b[38;5;250m \u001b[39m\u001b[34;01mseaborn\u001b[39;00m\u001b[38;5;250m \u001b[39m\u001b[38;5;28;01mas\u001b[39;00m\u001b[38;5;250m \u001b[39m\u001b[34;01msns\u001b[39;00m\n",
      "\u001b[36mFile \u001b[39m\u001b[32m~/coding/projects/spotify-data-analysis/.venv/lib/python3.12/site-packages/matplotlib/pyplot.py:70\u001b[39m\n\u001b[32m     67\u001b[39m \u001b[38;5;28;01mfrom\u001b[39;00m\u001b[38;5;250m \u001b[39m\u001b[34;01mmatplotlib\u001b[39;00m\u001b[38;5;250m \u001b[39m\u001b[38;5;28;01mimport\u001b[39;00m _docstring\n\u001b[32m     68\u001b[39m \u001b[38;5;28;01mfrom\u001b[39;00m\u001b[38;5;250m \u001b[39m\u001b[34;01mmatplotlib\u001b[39;00m\u001b[34;01m.\u001b[39;00m\u001b[34;01mbackend_bases\u001b[39;00m\u001b[38;5;250m \u001b[39m\u001b[38;5;28;01mimport\u001b[39;00m (\n\u001b[32m     69\u001b[39m     FigureCanvasBase, FigureManagerBase, MouseButton)\n\u001b[32m---> \u001b[39m\u001b[32m70\u001b[39m \u001b[38;5;28;01mfrom\u001b[39;00m\u001b[38;5;250m \u001b[39m\u001b[34;01mmatplotlib\u001b[39;00m\u001b[34;01m.\u001b[39;00m\u001b[34;01mfigure\u001b[39;00m\u001b[38;5;250m \u001b[39m\u001b[38;5;28;01mimport\u001b[39;00m Figure, FigureBase, figaspect\n\u001b[32m     71\u001b[39m \u001b[38;5;28;01mfrom\u001b[39;00m\u001b[38;5;250m \u001b[39m\u001b[34;01mmatplotlib\u001b[39;00m\u001b[34;01m.\u001b[39;00m\u001b[34;01mgridspec\u001b[39;00m\u001b[38;5;250m \u001b[39m\u001b[38;5;28;01mimport\u001b[39;00m GridSpec, SubplotSpec\n\u001b[32m     72\u001b[39m \u001b[38;5;28;01mfrom\u001b[39;00m\u001b[38;5;250m \u001b[39m\u001b[34;01mmatplotlib\u001b[39;00m\u001b[38;5;250m \u001b[39m\u001b[38;5;28;01mimport\u001b[39;00m rcsetup, rcParamsDefault, rcParamsOrig\n",
      "\u001b[36mFile \u001b[39m\u001b[32m~/coding/projects/spotify-data-analysis/.venv/lib/python3.12/site-packages/matplotlib/figure.py:40\u001b[39m\n\u001b[32m     37\u001b[39m \u001b[38;5;28;01mimport\u001b[39;00m\u001b[38;5;250m \u001b[39m\u001b[34;01mnumpy\u001b[39;00m\u001b[38;5;250m \u001b[39m\u001b[38;5;28;01mas\u001b[39;00m\u001b[38;5;250m \u001b[39m\u001b[34;01mnp\u001b[39;00m\n\u001b[32m     39\u001b[39m \u001b[38;5;28;01mimport\u001b[39;00m\u001b[38;5;250m \u001b[39m\u001b[34;01mmatplotlib\u001b[39;00m\u001b[38;5;250m \u001b[39m\u001b[38;5;28;01mas\u001b[39;00m\u001b[38;5;250m \u001b[39m\u001b[34;01mmpl\u001b[39;00m\n\u001b[32m---> \u001b[39m\u001b[32m40\u001b[39m \u001b[38;5;28;01mfrom\u001b[39;00m\u001b[38;5;250m \u001b[39m\u001b[34;01mmatplotlib\u001b[39;00m\u001b[38;5;250m \u001b[39m\u001b[38;5;28;01mimport\u001b[39;00m _blocking_input, backend_bases, _docstring, projections\n\u001b[32m     41\u001b[39m \u001b[38;5;28;01mfrom\u001b[39;00m\u001b[38;5;250m \u001b[39m\u001b[34;01mmatplotlib\u001b[39;00m\u001b[34;01m.\u001b[39;00m\u001b[34;01martist\u001b[39;00m\u001b[38;5;250m \u001b[39m\u001b[38;5;28;01mimport\u001b[39;00m (\n\u001b[32m     42\u001b[39m     Artist, allow_rasterization, _finalize_rasterization)\n\u001b[32m     43\u001b[39m \u001b[38;5;28;01mfrom\u001b[39;00m\u001b[38;5;250m \u001b[39m\u001b[34;01mmatplotlib\u001b[39;00m\u001b[34;01m.\u001b[39;00m\u001b[34;01mbackend_bases\u001b[39;00m\u001b[38;5;250m \u001b[39m\u001b[38;5;28;01mimport\u001b[39;00m (\n\u001b[32m     44\u001b[39m     DrawEvent, FigureCanvasBase, NonGuiException, MouseButton, _get_renderer)\n",
      "\u001b[36mFile \u001b[39m\u001b[32m~/coding/projects/spotify-data-analysis/.venv/lib/python3.12/site-packages/matplotlib/projections/__init__.py:55\u001b[39m\n\u001b[32m      1\u001b[39m \u001b[33;03m\"\"\"\u001b[39;00m\n\u001b[32m      2\u001b[39m \u001b[33;03mNon-separable transforms that map from data space to screen space.\u001b[39;00m\n\u001b[32m      3\u001b[39m \n\u001b[32m   (...)\u001b[39m\u001b[32m     52\u001b[39m \u001b[33;03m`matplotlib.projections.polar` may also be of interest.\u001b[39;00m\n\u001b[32m     53\u001b[39m \u001b[33;03m\"\"\"\u001b[39;00m\n\u001b[32m---> \u001b[39m\u001b[32m55\u001b[39m \u001b[38;5;28;01mfrom\u001b[39;00m\u001b[38;5;250m \u001b[39m\u001b[34;01m.\u001b[39;00m\u001b[34;01m.\u001b[39;00m\u001b[38;5;250m \u001b[39m\u001b[38;5;28;01mimport\u001b[39;00m axes, _docstring\n\u001b[32m     56\u001b[39m \u001b[38;5;28;01mfrom\u001b[39;00m\u001b[38;5;250m \u001b[39m\u001b[34;01m.\u001b[39;00m\u001b[34;01mgeo\u001b[39;00m\u001b[38;5;250m \u001b[39m\u001b[38;5;28;01mimport\u001b[39;00m AitoffAxes, HammerAxes, LambertAxes, MollweideAxes\n\u001b[32m     57\u001b[39m \u001b[38;5;28;01mfrom\u001b[39;00m\u001b[38;5;250m \u001b[39m\u001b[34;01m.\u001b[39;00m\u001b[34;01mpolar\u001b[39;00m\u001b[38;5;250m \u001b[39m\u001b[38;5;28;01mimport\u001b[39;00m PolarAxes\n",
      "\u001b[36mFile \u001b[39m\u001b[32m~/coding/projects/spotify-data-analysis/.venv/lib/python3.12/site-packages/matplotlib/axes/__init__.py:2\u001b[39m\n\u001b[32m      1\u001b[39m \u001b[38;5;28;01mfrom\u001b[39;00m\u001b[38;5;250m \u001b[39m\u001b[34;01m.\u001b[39;00m\u001b[38;5;250m \u001b[39m\u001b[38;5;28;01mimport\u001b[39;00m _base\n\u001b[32m----> \u001b[39m\u001b[32m2\u001b[39m \u001b[38;5;28;01mfrom\u001b[39;00m\u001b[38;5;250m \u001b[39m\u001b[34;01m.\u001b[39;00m\u001b[34;01m_axes\u001b[39;00m\u001b[38;5;250m \u001b[39m\u001b[38;5;28;01mimport\u001b[39;00m Axes\n\u001b[32m      4\u001b[39m \u001b[38;5;66;03m# Backcompat.\u001b[39;00m\n\u001b[32m      5\u001b[39m Subplot = Axes\n",
      "\u001b[36mFile \u001b[39m\u001b[32m~/coding/projects/spotify-data-analysis/.venv/lib/python3.12/site-packages/matplotlib/axes/_axes.py:20\u001b[39m\n\u001b[32m     18\u001b[39m \u001b[38;5;28;01mimport\u001b[39;00m\u001b[38;5;250m \u001b[39m\u001b[34;01mmatplotlib\u001b[39;00m\u001b[34;01m.\u001b[39;00m\u001b[34;01mimage\u001b[39;00m\u001b[38;5;250m \u001b[39m\u001b[38;5;28;01mas\u001b[39;00m\u001b[38;5;250m \u001b[39m\u001b[34;01mmimage\u001b[39;00m\n\u001b[32m     19\u001b[39m \u001b[38;5;28;01mimport\u001b[39;00m\u001b[38;5;250m \u001b[39m\u001b[34;01mmatplotlib\u001b[39;00m\u001b[34;01m.\u001b[39;00m\u001b[34;01minset\u001b[39;00m\u001b[38;5;250m \u001b[39m\u001b[38;5;28;01mas\u001b[39;00m\u001b[38;5;250m \u001b[39m\u001b[34;01mminset\u001b[39;00m\n\u001b[32m---> \u001b[39m\u001b[32m20\u001b[39m \u001b[38;5;28;01mimport\u001b[39;00m\u001b[38;5;250m \u001b[39m\u001b[34;01mmatplotlib\u001b[39;00m\u001b[34;01m.\u001b[39;00m\u001b[34;01mlegend\u001b[39;00m\u001b[38;5;250m \u001b[39m\u001b[38;5;28;01mas\u001b[39;00m\u001b[38;5;250m \u001b[39m\u001b[34;01mmlegend\u001b[39;00m\n\u001b[32m     21\u001b[39m \u001b[38;5;28;01mimport\u001b[39;00m\u001b[38;5;250m \u001b[39m\u001b[34;01mmatplotlib\u001b[39;00m\u001b[34;01m.\u001b[39;00m\u001b[34;01mlines\u001b[39;00m\u001b[38;5;250m \u001b[39m\u001b[38;5;28;01mas\u001b[39;00m\u001b[38;5;250m \u001b[39m\u001b[34;01mmlines\u001b[39;00m\n\u001b[32m     22\u001b[39m \u001b[38;5;28;01mimport\u001b[39;00m\u001b[38;5;250m \u001b[39m\u001b[34;01mmatplotlib\u001b[39;00m\u001b[34;01m.\u001b[39;00m\u001b[34;01mmarkers\u001b[39;00m\u001b[38;5;250m \u001b[39m\u001b[38;5;28;01mas\u001b[39;00m\u001b[38;5;250m \u001b[39m\u001b[34;01mmmarkers\u001b[39;00m\n",
      "\u001b[36mFile \u001b[39m\u001b[32m~/coding/projects/spotify-data-analysis/.venv/lib/python3.12/site-packages/matplotlib/legend.py:50\u001b[39m\n\u001b[32m     44\u001b[39m \u001b[38;5;28;01mfrom\u001b[39;00m\u001b[38;5;250m \u001b[39m\u001b[34;01mmatplotlib\u001b[39;00m\u001b[34;01m.\u001b[39;00m\u001b[34;01mtransforms\u001b[39;00m\u001b[38;5;250m \u001b[39m\u001b[38;5;28;01mimport\u001b[39;00m BboxTransformTo, BboxTransformFrom\n\u001b[32m     45\u001b[39m \u001b[38;5;28;01mfrom\u001b[39;00m\u001b[38;5;250m \u001b[39m\u001b[34;01mmatplotlib\u001b[39;00m\u001b[34;01m.\u001b[39;00m\u001b[34;01moffsetbox\u001b[39;00m\u001b[38;5;250m \u001b[39m\u001b[38;5;28;01mimport\u001b[39;00m (\n\u001b[32m     46\u001b[39m     AnchoredOffsetbox, DraggableOffsetBox,\n\u001b[32m     47\u001b[39m     HPacker, VPacker,\n\u001b[32m     48\u001b[39m     DrawingArea, TextArea,\n\u001b[32m     49\u001b[39m )\n\u001b[32m---> \u001b[39m\u001b[32m50\u001b[39m \u001b[38;5;28;01mfrom\u001b[39;00m\u001b[38;5;250m \u001b[39m\u001b[34;01mmatplotlib\u001b[39;00m\u001b[34;01m.\u001b[39;00m\u001b[34;01mcontainer\u001b[39;00m\u001b[38;5;250m \u001b[39m\u001b[38;5;28;01mimport\u001b[39;00m ErrorbarContainer, BarContainer, StemContainer\n\u001b[32m     51\u001b[39m \u001b[38;5;28;01mfrom\u001b[39;00m\u001b[38;5;250m \u001b[39m\u001b[34;01m.\u001b[39;00m\u001b[38;5;250m \u001b[39m\u001b[38;5;28;01mimport\u001b[39;00m legend_handler\n\u001b[32m     54\u001b[39m \u001b[38;5;28;01mclass\u001b[39;00m\u001b[38;5;250m \u001b[39m\u001b[34;01mDraggableLegend\u001b[39;00m(DraggableOffsetBox):\n",
      "\u001b[31mImportError\u001b[39m: cannot import name 'BarContainer' from 'matplotlib.container' (/home/divij/coding/projects/spotify-data-analysis/.venv/lib/python3.12/site-packages/matplotlib/container.py)"
     ]
    }
   ],
   "source": [
    "import os\n",
    "from typing import cast, Literal\n",
    "from pprint import pp\n",
    "from datetime import datetime\n",
    "\n",
    "import scipy\n",
    "import numpy as np\n",
    "import pandas as pd\n",
    "import matplotlib.pyplot as plt \n",
    "from matplotlib.ticker import MultipleLocator, StrMethodFormatter\n",
    "\n",
    "import seaborn as sns\n",
    "# sns.set_theme(style=\"white\", context=\"notebook\")\n",
    "\n",
    "\n",
    "\n",
    "pd.set_option(\"display.expand_frame_repr\", False)\n",
    "\n",
    "from preprocessing import read_file, extract_filtered, SongAttributes\n",
    "from utils.fuzzy_searchers import *\n",
    "from utils.generic_plots import Plots\n",
    "from utils.filters import Filters\n",
    "from utils.extract_from_timestamp import * \n",
    "from utils.smoothen import *"
   ]
  },
  {
   "cell_type": "code",
   "execution_count": null,
   "id": "239182d9",
   "metadata": {},
   "outputs": [],
   "source": [
    "# extract the \"Spotify Extended Streaming History.zip\" in a folder named data, sibling to this script\n",
    "\n",
    "data_folder = os.path.join(os.path.abspath(''), \"data\")\n",
    "print(data_folder)\n",
    "# only reading Audio History files\n",
    "files = [os.path.join(data_folder, file) for file in os.listdir(data_folder) if file.startswith(\"Streaming_History_Audio\")]\n",
    "songs = [song for file in files for song in read_file(file)]"
   ]
  },
  {
   "cell_type": "code",
   "execution_count": null,
   "id": "71daf03e",
   "metadata": {},
   "outputs": [],
   "source": [
    "filters: list[SongAttributes] = [\"ts\", \"ms_played\", \"master_metadata_track_name\", \"master_metadata_album_artist_name\", \"master_metadata_album_album_name\", \"spotify_track_uri\"]\n",
    "filtered = [extract_filtered(song, filters) for song in songs]"
   ]
  },
  {
   "cell_type": "code",
   "execution_count": null,
   "id": "b5a782ac",
   "metadata": {},
   "outputs": [],
   "source": [
    "df = pd.DataFrame(filtered)\n",
    "df[\"ts\"] = pd.to_datetime(df[\"ts\"])\n",
    "df.to_json(\"df.json\", orient=\"records\")"
   ]
  },
  {
   "cell_type": "code",
   "execution_count": null,
   "id": "06671be4",
   "metadata": {},
   "outputs": [],
   "source": [
    "# Top artists by playtime\n",
    "copy = df.copy(True)\n",
    "grouped_by_artist_name = copy.groupby(copy[\"master_metadata_album_artist_name\"])\n",
    "time_listend = grouped_by_artist_name[\"ms_played\"].sum()\n",
    "time_listend = time_listend[time_listend != 0]\n",
    "time_listend.sort_values(ascending=False, inplace=True)\n",
    "time_listend_mins = time_listend.div(6e4)\n",
    "time_listend_mins = cast(pd.Series, Filters.rows_gt(1, time_listend_mins))\n",
    "\n",
    "Plots.plot_1(time_listend_mins, 25, \"Ttitle=op 25 played artists by listening minutes\", \"Minutes Listened (scaled by natural log)\", \"Artist\")"
   ]
  },
  {
   "cell_type": "code",
   "execution_count": null,
   "id": "8b3f6e4c",
   "metadata": {},
   "outputs": [],
   "source": [
    "# Top artists by played track count\n",
    "played_track_count = grouped_by_artist_name[\"master_metadata_album_artist_name\"].count()\n",
    "played_track_count.sort_values(ascending=False, inplace=True)\n",
    "Plots.plot_1(played_track_count, 100, \"Top 100 artists by played track count (non-unique)\", \"Track count (scaled by natural log)\", \"Artist\")"
   ]
  },
  {
   "cell_type": "code",
   "execution_count": null,
   "id": "425f0a38",
   "metadata": {},
   "outputs": [],
   "source": [
    "# select artist, distinct track_name, count(track_name) from table\n",
    "\n",
    "unique_tracks = grouped_by_artist_name[\"master_metadata_track_name\"].nunique()\n",
    "unique_tracks.sort_values(ascending=False, inplace=True)\n",
    "Plots.plot_1(unique_tracks, 100, \"Top 100 artists by unqiue played tracks\", \"Unique tracks played (scaled by natural log)\", \"artist\")"
   ]
  },
  {
   "cell_type": "code",
   "execution_count": null,
   "id": "9ef2dea0",
   "metadata": {},
   "outputs": [],
   "source": [
    "# Most played tracks\n",
    "most_played_tracks = df.groupby(df[\"master_metadata_track_name\"])[\"master_metadata_track_name\"].count()\n",
    "most_played_tracks.sort_values(ascending=False, inplace=True)\n",
    "Plots.plot_1(most_played_tracks, 150, \"150 Most played tracks\", \"Play count (scaled by natural log)\", \"Track name\")\n"
   ]
  },
  {
   "cell_type": "code",
   "execution_count": null,
   "id": "989a9d91",
   "metadata": {},
   "outputs": [],
   "source": [
    "# yearwise listening minutes\n",
    "with_dates = df.copy(True)\n",
    "with_dates[\"ts\"] = with_dates[\"ts\"].apply(lambda ts: datetime.strftime(ts, \"%Y\"))\n",
    "grouped_by_ts = with_dates.groupby(\"ts\")\n",
    "total_playtime = grouped_by_ts[\"ms_played\"].sum()\n",
    "total_playtime = total_playtime.div(6e4)\n",
    "Plots.plot_2(total_playtime, \"Yearwise playtime in minutes\", \"Year\", \"Minutes Played\")"
   ]
  },
  {
   "cell_type": "code",
   "execution_count": null,
   "id": "c11edc03",
   "metadata": {},
   "outputs": [],
   "source": []
  },
  {
   "cell_type": "code",
   "execution_count": null,
   "id": "6f3beb39",
   "metadata": {},
   "outputs": [],
   "source": [
    "def analysis_per_artist(frame: pd.DataFrame, artist:str):\n",
    "    if(artist not in frame[\"master_metadata_album_artist_name\"].values):\n",
    "        raise ValueError(f\"Artist {artist} is not in data\")\n",
    "\n",
    "    artist_frame = frame[frame[\"master_metadata_album_artist_name\"] == artist].copy(True)\n",
    "\n",
    "    # grouped = artist_frame.groupby(\"master_metadata_album_artist_name\")\n",
    "    # changing ts to year\n",
    "    artist_frame[\"year\"] = artist_frame[\"ts\"].apply(lambda ts: datetime.strftime(ts, \"%Y\"))\n",
    "\n",
    "    # Top 50 played tracks\n",
    "    played_track_count = (artist_frame\n",
    "                          .groupby(\"master_metadata_track_name\")\n",
    "                          .size()\n",
    "                          .sort_values(ascending=False))\n",
    "    Plots.plot_1(played_track_count, 50, f\"Fifty most played tracks by {artist}\", \"Play count\", \"Track name\")\n",
    "    \n",
    "    # Year wise play time\n",
    "    yearwise_playtime = (artist_frame\n",
    "                         .groupby(\"year\")\n",
    "                         .size())\n",
    "    Plots.plot_2(yearwise_playtime, f\"Tracks played in a particular year by {artist}\", \"Year\", \"Play count\")\n",
    "    \n",
    "    \n",
    "    \n",
    "analysis_per_artist(df, \"Nirvana\")\n",
    "analysis_per_artist(df, \"Eminem\")\n",
    "analysis_per_artist(df, \"Michael Jackson\")\n",
    "analysis_per_artist(df, \"The Beatles\")"
   ]
  },
  {
   "cell_type": "code",
   "execution_count": null,
   "id": "64051c53",
   "metadata": {},
   "outputs": [],
   "source": [
    "search_tracks(\"rroxxaneesa\", df, 70, 10)"
   ]
  },
  {
   "cell_type": "code",
   "execution_count": null,
   "id": "31d156b0",
   "metadata": {},
   "outputs": [],
   "source": [
    "search_artists(\"beat\", df, 70, 10)"
   ]
  },
  {
   "cell_type": "code",
   "execution_count": null,
   "id": "74f7578a",
   "metadata": {},
   "outputs": [],
   "source": [
    "hour_df = df.copy(True)\n",
    "hour_df[\"hour\"] = hour_df[\"ts\"].apply(lambda ts: datetime.strftime(ts, \"%H\"))\n",
    "grouped = hour_df.groupby(\"hour\")\n",
    "hour_wise_count = grouped.size()\n",
    "total_tracks = sum(hour_wise_count)\n",
    "\n",
    "# late-nights = 01-04\n",
    "# morning 05-11\n",
    "# afternoon 12-16\n",
    "# evening 17-20\n",
    "# night 21-00\n",
    "\n",
    "hour_wise_count.index = range(24) #type: ignore\n",
    "smoothened = smoothen(hour_wise_count, 1000)\n",
    "\n",
    "# daytime wise\n",
    "late_nights = smoothened[(smoothened.index > 0) & (smoothened.index <=4)]\n",
    "mornings = smoothened[(smoothened.index > 4) & (smoothened.index <=11)]\n",
    "afternoons = smoothened[(smoothened.index > 11) & (smoothened.index <=16)]\n",
    "evenings = smoothened[(smoothened.index > 16) & (smoothened.index <=20)]\n",
    "nights = smoothened[(smoothened.index > 20) & (smoothened.index < 24)]\n",
    "\n",
    "daytimes = [late_nights, mornings, afternoons, evenings, nights]\n",
    "daytime_names = [\"Late Nights\", \"Mornings\", \"Afternoons\", \"Evenings\", \"Nights\"]\n",
    "daytime_colors = [\"#2c3e50\", \"#f1c40f\", \"#3498db\",\"#e67e22\",\"#8e44ad\",]\n",
    "locs = [2, 7.5, 14, 18.5, 22.5]\n",
    "fig, ax = plt.subplots(1,1, figsize=(12,5))\n",
    "\n",
    "\n",
    "for idx, daytime_ser in enumerate(daytimes):\n",
    "    ax.fill_between(daytime_ser.index, 0, daytime_ser.values, alpha=0.25, color=daytime_colors[idx])\n",
    "    sns.lineplot(x=daytime_ser.index, y=daytime_ser.values, ax=ax, label=daytime_names[idx], color=daytime_colors[idx])\n",
    "    ax.vlines(daytime_ser.index.max(),0,daytime_ser.iat[-1], linestyle='solid', color=\"000\", alpha=0.125)\n",
    "\n",
    "ax.set_xticks(range(24))\n",
    "# ax.set_xticks([0, 1, 2,2.2, 3, 4, 5, 6, 7,7.5, 8, 9, 10, 11, 12, 13,13.5, 14, 15, 16, 17, 18,18.5, 19, 20, 21, 22,22.5, 23], labels=[\"0\", \"1\", \"2\",\"Late Nights\", \"3\", \"4\", \"5\", \"6\", \"7\",\"Mornings\"\"\", \"8\", \"9\", \"10\", \"11\", \"12\", \"13\",\"Afternoon\", \"14\", \"15\", \"16\", \"17\", \"18\",\"Evenings\", \"19\", \"20\", \"21\", \"22\",\"Late Nights\", \"23\"])\n",
    "\n",
    "# day names spread across evenly\n",
    "# ax.set_xticks([2, 7.5, 14, 18.5, 22.5], labels=daytime_names)\n",
    "# ax.set_xticks(np.linspace(2, 22, len(daytime_names), True), labels=daytime_names)\n",
    "# ax.grid(axis=\"y\", linestyle=':')\n",
    "\n",
    "# ax.minorticks_on()\n",
    "# ax.xaxis.set_minor_locator(MultipleLocator(base=1))\n",
    "# ax.xaxis.set_minor_formatter(StrMethodFormatter(\"{x:1.0f}\"))\n",
    "# ax.set_xticks(range(24), minor=True)\n",
    "# ax.tick_params(direction='inout')\n",
    "\n",
    "\n",
    "\n",
    "ax.set_xlabel(\"Hour\")\n",
    "ax.set_ylabel(\"Minutes listend\")\n",
    "ax.set_title(\"Listening activity thoroughout day\")\n",
    "ax.set_ylim(0, None)\n",
    "sns.despine()\n",
    "plt.show()"
   ]
  },
  {
   "cell_type": "markdown",
   "id": "d44dca96",
   "metadata": {},
   "source": [
    "# Trends in track playtime"
   ]
  },
  {
   "cell_type": "code",
   "execution_count": null,
   "id": "68679414",
   "metadata": {},
   "outputs": [],
   "source": []
  },
  {
   "cell_type": "code",
   "execution_count": null,
   "id": "cda4ec04",
   "metadata": {},
   "outputs": [],
   "source": [
    "track_playtime_ser = df[\"ms_played\"].copy(True)\n",
    "track_playtime_ser= track_playtime_ser.apply(lambda ts: int(ts) / 6e4).round(3)\n",
    "\n",
    "\n",
    "under_min = cast(pd.Series, Filters.rows_lteq(1, track_playtime_ser))\n",
    "track_playtime_ser = cast(pd.Series, Filters.rows_gteq(1, track_playtime_ser))\n",
    "track_playtime_ser = cast(pd.Series, Filters.rows_lteq(10, track_playtime_ser))\n",
    "\n",
    "fig, ax = plt.subplots(2,1, figsize=(10,7))\n",
    "\n",
    "\n",
    "# Plotting the KDE distribution of track playtimes\n",
    "# To prevent skewing of data, playtimes between 1 and 10minutes are only considered\n",
    "# since a lot of tracks with playtime under a minute could be skipped tracks and\n",
    "# the tracks over 10 minutes might be scarce but widely spread\n",
    "sns.kdeplot(x=track_playtime_ser.values, alpha=0.25, fill=True, color=\"red\", linestyle=\"\", ax=ax[0])\n",
    "ax[0].set_title(\"Distribution (KDE) of track playtimes\")\n",
    "ax[0].axvline(track_playtime_ser.mean(), 0, label=\"Mean\", linestyle=\":\", color=\"000\", alpha=0.5)\n",
    "ax[0].legend()\n",
    "\n",
    "# KDE Distribution of playtimes under a minute\n",
    "sns.kdeplot(x=under_min.values, alpha=0.25, fill=True, color=\"blue\", linestyle=\"\", ax=ax[1])\n",
    "ax[1].set_title(\"Distribution of playtime under minute\")\n",
    "ax[1].set_xlabel(\"Minutes\")\n",
    "ax[1].axvline(under_min.mean(), 0, label=\"Mean\", linestyle=\":\", color=\"000\", alpha=0.5)\n",
    "ax[1].legend()\n",
    "sns.despine()\n",
    "\n",
    "plt.tight_layout()\n",
    "plt.show()"
   ]
  },
  {
   "cell_type": "code",
   "execution_count": null,
   "id": "7ceb6c32",
   "metadata": {},
   "outputs": [],
   "source": [
    "# daily number of songs listend to\n",
    "daywise_plays_df = df[[\"ts\", \"ms_played\"]].copy(True)\n",
    "\n",
    "# filtering out skipped tracks\n",
    "daywise_plays_df = daywise_plays_df[daywise_plays_df[\"ms_played\"] >= 3e4]\n",
    "daywise_plays_df.sort_values(\"ts\", inplace=True)\n",
    "dates  = daywise_plays_df[\"ts\"].apply(lambda ts: datetime.strftime(ts, \"%Y-%m-%d\"))\n",
    "datewise_track_count_ser = dates.groupby(dates).count()\n",
    "\n",
    "min_date = dates.min()\n",
    "max_date = dates.max()\n",
    "assert max_date >= min_date\n",
    "\n",
    "# days between first and last track record\n",
    "total_days = (\n",
    "    datetime.strptime(max_date, \"%Y-%m-%d\") - datetime.strptime(min_date, \"%Y-%m-%d\")\n",
    ").days\n",
    "\n",
    "\n",
    "fig, ax = plt.subplots(1, 1, figsize=(10, 5))\n",
    "\n",
    "__x = pd.to_datetime(datewise_track_count_ser.index)\n",
    "__y = datewise_track_count_ser.values\n",
    "\n",
    "sns.scatterplot(\n",
    "    x=__x,\n",
    "    y=__y,\n",
    "    ax=ax,\n",
    "    hue=datewise_track_count_ser.values,\n",
    "    palette=\"coolwarm\",\n",
    "    marker='.'\n",
    ")\n",
    "date_ticks = pd.date_range(start=min_date, end=max_date, periods=7, inclusive=\"both\")\n",
    "ax.set_xticks(\n",
    "    [d.strftime(format=\"%Y-%m-%d\") for d in date_ticks],\n",
    "    labels=[d.strftime(\"%b %Y\") for d in date_ticks],\n",
    ")\n",
    "sns.despine()\n",
    "plt.show()"
   ]
  },
  {
   "cell_type": "code",
   "execution_count": null,
   "id": "6397ed74",
   "metadata": {},
   "outputs": [],
   "source": [
    "df"
   ]
  },
  {
   "cell_type": "code",
   "execution_count": null,
   "id": "cf05bba8",
   "metadata": {},
   "outputs": [],
   "source": [
    "# artists vs songs listend each month\n",
    "# number of artists listend each month\n",
    "copy = df[[\"ts\",\"master_metadata_album_artist_name\", \"master_metadata_track_name\"]].copy(True)\n",
    "# copy[\"month-year\"] = copy[\"ts\"].apply(lambda ts: datetime.strftime(ts, \"%b %Y\"))\n",
    "copy[\"month\"] = copy[\"ts\"].dt.to_period(\"M\")\n",
    "copy.sort_values(\"ts\", inplace=True, ascending=True)\n",
    "\n",
    "monthwise_unique_artists_count = copy.groupby(\"month\")[\"master_metadata_album_artist_name\"].nunique()\n",
    "monthwise_unique_track_count = copy.groupby(\"month\")[\"master_metadata_track_name\"].nunique()\n",
    "aggr = pd.concat([monthwise_unique_artists_count, monthwise_unique_track_count], axis=1)\n",
    "aggr[\"month-year\"] = aggr.index.strftime(\"%b %Y\")\n",
    "aggr.rename({\"master_metadata_album_artist_name\":\"Artist Count\", \"master_metadata_track_name\":\"Track Count\"}, inplace=True, axis=1)\n"
   ]
  },
  {
   "cell_type": "code",
   "execution_count": null,
   "id": "bdcf3b92",
   "metadata": {},
   "outputs": [],
   "source": []
  },
  {
   "cell_type": "code",
   "execution_count": null,
   "id": "ba7b80a6",
   "metadata": {},
   "outputs": [],
   "source": [
    "fig, ax = plt.subplots(1, 1, figsize=(10, 4))\n",
    "\n",
    "y1 = aggr[\"Artist Count\"]\n",
    "y2 = aggr[\"Track Count\"]\n",
    "\n",
    "# ax.stackplot(\n",
    "#     aggr[\"month-year\"],\n",
    "#     y1,\n",
    "#     y2,\n",
    "#     labels=[\"Artist Count\", \"Track Count\"],\n",
    "#     colors=[\"#5EABD6\", \"#EF5A6F\"],\n",
    "# )\n",
    "\n",
    "ax.axhline(y1.max(), color=\"#5EABD6\", alpha=0.5, linestyle='--')\n",
    "ax.axhline(y2.max(), color=\"#EF5A6F\", alpha=0.5, linestyle='--')\n",
    "\n",
    "sns.lineplot(\n",
    "    x=aggr[\"month-year\"],\n",
    "    y=y1,\n",
    "    label=[\"Artist Count\"],\n",
    "    color=\"#5EABD6\",\n",
    "    marker=\".\",\n",
    "    ax=ax\n",
    ")\n",
    "sns.lineplot(\n",
    "    x=aggr[\"month-year\"],\n",
    "    y=y2,\n",
    "    label=[\"Track Count\"],\n",
    "    color=\"#EF5A6F\",\n",
    "    marker=\".\",\n",
    "    ax=ax\n",
    ")\n",
    "\n",
    "\n",
    "ax.set_xticks(date_ticks.strftime(\"%b %Y\"))\n",
    "ax.legend(\n",
    "    loc=\"upper left\",\n",
    ")\n",
    "sns.despine()\n",
    "\n",
    "plt.title(\"Variablilty in artists and tracks\")\n",
    "plt.tight_layout()\n",
    "plt.show()"
   ]
  }
 ],
 "metadata": {
  "kernelspec": {
   "display_name": ".venv",
   "language": "python",
   "name": "python3"
  },
  "language_info": {
   "codemirror_mode": {
    "name": "ipython",
    "version": 3
   },
   "file_extension": ".py",
   "mimetype": "text/x-python",
   "name": "python",
   "nbconvert_exporter": "python",
   "pygments_lexer": "ipython3",
   "version": "3.12.3"
  }
 },
 "nbformat": 4,
 "nbformat_minor": 5
}
