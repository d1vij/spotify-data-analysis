{
 "cells": [
  {
   "cell_type": "code",
   "id": "5088831a",
   "metadata": {},
   "source": [
    "from main import getApi, print_json\n",
    "API = getApi()\n",
    "MILLIS = 60000"
   ],
   "outputs": [],
   "execution_count": null
  },
  {
   "cell_type": "code",
   "id": "48167a9f",
   "metadata": {},
   "source": [
    "# new releases\n",
    "new_releases : dict = API.new_releases(country=\"US\",limit=20 )\n",
    "for release in new_releases[\"albums\"][\"items\"]:\n",
    "    name = release[\"name\"]\n",
    "    artists = [artist[\"name\"] for artist in release[\"artists\"]]\n",
    "    print(name, \":\", artists)"
   ],
   "outputs": [],
   "execution_count": null
  },
  {
   "cell_type": "code",
   "id": "335d047b",
   "metadata": {},
   "source": [
    "# searching spotify id of artist\n",
    "\n",
    "queried_artists = API.search(q=\"The Beatles\", limit=3, type='artist')[\"artists\"]\n",
    "for artist in queried_artists[\"items\"]:\n",
    "    name = artist[\"name\"]\n",
    "    uid = artist[\"id\"]\n",
    "    print(name, \":\", uid)\n"
   ],
   "outputs": [],
   "execution_count": null
  },
  {
   "metadata": {},
   "cell_type": "code",
   "source": [
    "top_tracks = API.artist_top_tracks(artist_id = \"1dfeR4HaWDbWqFHLkxsg1d\", country='IN')[\"tracks\"]\n",
    "for track in top_tracks:\n",
    "for track in top_tracks:\n",
    "    album_name = track[\"album\"][\"name\"]\n",
    "    track_name = track[\"name\"]\n",
    "    artist_names = [artist[\"name\"] for artist in track[\"artists\"]]\n",
    "\n",
    "    print(track_name, *artist_names, album_name, sep=' | ')\n",
    "\n"
   ],
   "id": "3026d9e05721d02c",
   "outputs": [],
   "execution_count": null
  },
  {
   "metadata": {},
   "cell_type": "code",
   "source": [
    "top_tracks = API.artist_top_tracks(artist_id = \"1dfeR4HaWDbWqFHLkxsg1d\", country = 'IN')[\"tracks\"]\n",
    "track_ids = []\n",
    "for track in top_tracks:\n",
    "    track_ids.append(track['id'])\n",
    "\n",
    "tracks_info = API.tracks(track_ids, market=\"IN\")['tracks']\n",
    "for track in tracks_info:\n",
    "    album_name = track[\"album\"][\"name\"]\n",
    "    track_name = track[\"name\"]\n",
    "    track_id = track[\"id\"]\n",
    "    artist_names = [artist[\"name\"] for artist in track[\"artists\"]]\n",
    "    duration = str(round(float(track[\"duration_ms\"] / MILLIS), 2)\n",
    "                   ) + \" mins\"\n",
    "    popularity = track[\"popularity\"]\n",
    "\n",
    "    print(track_name, artist_names, album_name, duration, popularity,track_id, sep=' | ' )"
   ],
   "id": "e8418ef816d445cd",
   "outputs": [],
   "execution_count": null
  },
  {
   "metadata": {},
   "cell_type": "code",
   "source": "API.audio_features([\"4u7EnebtmKWzUH433cf5Qv\"])",
   "id": "6929f60c8d20716c",
   "outputs": [],
   "execution_count": null
  },
  {
   "metadata": {
    "ExecuteTime": {
     "end_time": "2025-04-25T20:03:08.179607Z",
     "start_time": "2025-04-25T20:03:07.313436Z"
    }
   },
   "cell_type": "code",
   "source": [
    "from spotifyjsonparser import parse_and_load\n",
    "parse_and_load(folder_path = r\"D:\\coding\\playground\\spotifydata\\my_spotify_data\\Spotify Extended Streaming History\")"
   ],
   "id": "65a0be17c911b8fd",
   "outputs": [
    {
     "name": "stdout",
     "output_type": "stream",
     "text": [
      "Found files  3 ['D:\\\\coding\\\\playground\\\\spotifydata\\\\my_spotify_data\\\\Spotify Extended Streaming History\\\\Streaming_History_Audio_2020-2023_0.json', 'D:\\\\coding\\\\playground\\\\spotifydata\\\\my_spotify_data\\\\Spotify Extended Streaming History\\\\Streaming_History_Audio_2023-2024_1.json', 'D:\\\\coding\\\\playground\\\\spotifydata\\\\my_spotify_data\\\\Spotify Extended Streaming History\\\\Streaming_History_Audio_2024-2025_2.json']\n",
      "Total tracks queried :  40792\n",
      "Successfully inserted 40792 items, 0 yielded error\n"
     ]
    }
   ],
   "execution_count": 1
  }
 ],
 "metadata": {
  "kernelspec": {
   "display_name": ".venv",
   "language": "python",
   "name": "python3"
  },
  "language_info": {
   "codemirror_mode": {
    "name": "ipython",
    "version": 3
   },
   "file_extension": ".py",
   "mimetype": "text/x-python",
   "name": "python",
   "nbconvert_exporter": "python",
   "pygments_lexer": "ipython3",
   "version": "3.13.2"
  }
 },
 "nbformat": 4,
 "nbformat_minor": 5
}
